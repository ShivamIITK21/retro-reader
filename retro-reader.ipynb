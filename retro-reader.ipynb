{
 "cells": [
  {
   "cell_type": "code",
   "execution_count": 1,
   "id": "3fdd9527",
   "metadata": {},
   "outputs": [
    {
     "name": "stderr",
     "output_type": "stream",
     "text": [
      "2022-12-25 18:06:55.070280: I tensorflow/core/platform/cpu_feature_guard.cc:193] This TensorFlow binary is optimized with oneAPI Deep Neural Network Library (oneDNN) to use the following CPU instructions in performance-critical operations:  AVX2 FMA\n",
      "To enable them in other operations, rebuild TensorFlow with the appropriate compiler flags.\n",
      "2022-12-25 18:06:56.732158: W tensorflow/compiler/xla/stream_executor/platform/default/dso_loader.cc:64] Could not load dynamic library 'libnvinfer.so.7'; dlerror: libnvinfer.so.7: cannot open shared object file: No such file or directory; LD_LIBRARY_PATH: /opt/ros/noetic/lib:/opt/ros/noetic/lib/x86_64-linux-gnu\n",
      "2022-12-25 18:06:56.732466: W tensorflow/compiler/xla/stream_executor/platform/default/dso_loader.cc:64] Could not load dynamic library 'libnvinfer_plugin.so.7'; dlerror: libnvinfer_plugin.so.7: cannot open shared object file: No such file or directory; LD_LIBRARY_PATH: /opt/ros/noetic/lib:/opt/ros/noetic/lib/x86_64-linux-gnu\n",
      "2022-12-25 18:06:56.732475: W tensorflow/compiler/tf2tensorrt/utils/py_utils.cc:38] TF-TRT Warning: Cannot dlopen some TensorRT libraries. If you would like to use Nvidia GPU with TensorRT, please make sure the missing libraries mentioned above are installed properly.\n",
      "/home/shivam/RetroReader/retro_reader/metrics.py:4: FutureWarning: load_metric is deprecated and will be removed in the next major version of datasets. Use 'evaluate.load' instead, from the new library 🤗 Evaluate: https://huggingface.co/docs/evaluate\n",
      "  accuracy = datasets.load_metric(\"accuracy\").compute\n"
     ]
    }
   ],
   "source": [
    "from retro_reader import RetroReader"
   ]
  },
  {
   "cell_type": "code",
   "execution_count": 2,
   "id": "27cf9853",
   "metadata": {},
   "outputs": [],
   "source": [
    "from retro_reader import constants as C"
   ]
  },
  {
   "cell_type": "code",
   "execution_count": 3,
   "id": "cf84c013",
   "metadata": {},
   "outputs": [
    {
     "name": "stderr",
     "output_type": "stream",
     "text": [
      "loading file vocab.txt from cache at /home/shivam/.cache/huggingface/hub/models--jinmang2--retro-reader/snapshots/de65e5494f40c8e7607b0ae756d80779dd559cb3/vocab.txt\n",
      "loading file tokenizer.json from cache at /home/shivam/.cache/huggingface/hub/models--jinmang2--retro-reader/snapshots/de65e5494f40c8e7607b0ae756d80779dd559cb3/tokenizer.json\n",
      "loading file added_tokens.json from cache at None\n",
      "loading file special_tokens_map.json from cache at /home/shivam/.cache/huggingface/hub/models--jinmang2--retro-reader/snapshots/de65e5494f40c8e7607b0ae756d80779dd559cb3/special_tokens_map.json\n",
      "loading file tokenizer_config.json from cache at /home/shivam/.cache/huggingface/hub/models--jinmang2--retro-reader/snapshots/de65e5494f40c8e7607b0ae756d80779dd559cb3/tokenizer_config.json\n",
      "loading configuration file config.json from cache at /home/shivam/.cache/huggingface/hub/models--jinmang2--retro-reader/snapshots/de65e5494f40c8e7607b0ae756d80779dd559cb3/config.json\n",
      "Model config ElectraConfig {\n",
      "  \"_name_or_path\": \"google/electra-large-discriminator\",\n",
      "  \"architectures\": [\n",
      "    \"ElectraForQuestionAnsweringAVPool\"\n",
      "  ],\n",
      "  \"attention_probs_dropout_prob\": 0.1,\n",
      "  \"classifier_dropout\": null,\n",
      "  \"embedding_size\": 1024,\n",
      "  \"hidden_act\": \"gelu\",\n",
      "  \"hidden_dropout_prob\": 0.1,\n",
      "  \"hidden_size\": 1024,\n",
      "  \"initializer_range\": 0.02,\n",
      "  \"intermediate_size\": 4096,\n",
      "  \"layer_norm_eps\": 1e-12,\n",
      "  \"max_position_embeddings\": 512,\n",
      "  \"model_type\": \"electra\",\n",
      "  \"num_attention_heads\": 16,\n",
      "  \"num_hidden_layers\": 24,\n",
      "  \"pad_token_id\": 0,\n",
      "  \"position_embedding_type\": \"absolute\",\n",
      "  \"summary_activation\": \"gelu\",\n",
      "  \"summary_last_dropout\": 0.1,\n",
      "  \"summary_type\": \"first\",\n",
      "  \"summary_use_proj\": true,\n",
      "  \"torch_dtype\": \"float32\",\n",
      "  \"transformers_version\": \"4.25.1\",\n",
      "  \"type_vocab_size\": 2,\n",
      "  \"use_cache\": true,\n",
      "  \"vocab_size\": 30522\n",
      "}\n",
      "\n",
      "loading weights file pytorch_model.bin from cache at /home/shivam/.cache/huggingface/hub/models--jinmang2--retro-reader/snapshots/de65e5494f40c8e7607b0ae756d80779dd559cb3/pytorch_model.bin\n",
      "All model checkpoint weights were used when initializing ElectraForQuestionAnsweringAVPool.\n",
      "\n",
      "All the weights of ElectraForQuestionAnsweringAVPool were initialized from the model checkpoint at jinmang2/retro-reader.\n",
      "If your task is similar to the task the model of the checkpoint was trained on, you can already use ElectraForQuestionAnsweringAVPool for predictions without further training.\n"
     ]
    }
   ],
   "source": [
    "config_file = \"configs/inference_en_electra_large.yaml\"\n",
    "retro_reader = RetroReader.load(config_file=config_file)"
   ]
  },
  {
   "cell_type": "code",
   "execution_count": 4,
   "id": "e38755d6",
   "metadata": {},
   "outputs": [],
   "source": [
    "context = '''Beyoncé Giselle Knowles-Carter (/biːˈjɒnseɪ/ bee-YON-say) (born September 4, 1981) is an American singer, songwriter, record producer and actress. Born and raised in Houston, Texas, she performed in various singing and dancing competitions as a child, and rose to fame in the late 1990s as lead singer of R&B girl-group Destiny's Child. Managed by her father, Mathew Knowles, the group became one of the world's best-selling girl groups of all time. Their hiatus saw the release of Beyoncé's debut album, Dangerously in Love (2003), which established her as a solo artist worldwide, earned five Grammy Awards and featured the Billboard Hot 100 number-one singles \"Crazy in Love\" and \"Baby Boy\".'''\n",
    "question = '''What album made her a worldwide known artist?'''"
   ]
  },
  {
   "cell_type": "code",
   "execution_count": 5,
   "id": "43f93cbe",
   "metadata": {},
   "outputs": [
    {
     "name": "stdout",
     "output_type": "stream",
     "text": [
      "Dataset({\n",
      "    features: ['example_id', 'guid', 'question', 'context'],\n",
      "    num_rows: 1\n",
      "})\n"
     ]
    },
    {
     "data": {
      "application/vnd.jupyter.widget-view+json": {
       "model_id": "4cfab3f11182402dae6d06cfa6296e52",
       "version_major": 2,
       "version_minor": 0
      },
      "text/plain": [
       "  0%|          | 0/1 [00:00<?, ?ba/s]"
      ]
     },
     "metadata": {},
     "output_type": "display_data"
    },
    {
     "data": {
      "application/vnd.jupyter.widget-view+json": {
       "model_id": "3ae0ddd968be4dad927fc504cd6e7647",
       "version_major": 2,
       "version_minor": 0
      },
      "text/plain": [
       "  0%|          | 0/1 [00:00<?, ?ba/s]"
      ]
     },
     "metadata": {},
     "output_type": "display_data"
    },
    {
     "name": "stderr",
     "output_type": "stream",
     "text": [
      "The following columns in the test set don't have a corresponding argument in `ElectraForSequenceClassification.forward` and have been ignored: example_id. If example_id are not expected by `ElectraForSequenceClassification.forward`,  you can safely ignore this message.\n",
      "***** Running Prediction *****\n",
      "  Num examples = 1\n",
      "  Batch size = 12\n",
      "/home/shivam/anaconda3/envs/devrev/lib/python3.9/site-packages/torch/cuda/__init__.py:88: UserWarning: CUDA initialization: CUDA unknown error - this may be due to an incorrectly set up environment, e.g. changing env variable CUDA_VISIBLE_DEVICES after program start. Setting the available devices to be zero. (Triggered internally at ../c10/cuda/CUDAFunctions.cpp:109.)\n",
      "  return torch._C._cuda_getDeviceCount() > 0\n",
      "You're using a ElectraTokenizerFast tokenizer. Please note that with a fast tokenizer, using the `__call__` method is faster than using a method to encode the text followed by a call to the `pad` method to get a padded encoding.\n"
     ]
    },
    {
     "data": {
      "text/html": [
       "\n",
       "    <div>\n",
       "      \n",
       "      <progress value='2' max='1' style='width:300px; height:20px; vertical-align: middle;'></progress>\n",
       "      [1/1 00:41]\n",
       "    </div>\n",
       "    "
      ],
      "text/plain": [
       "<IPython.core.display.HTML object>"
      ]
     },
     "metadata": {},
     "output_type": "display_data"
    },
    {
     "name": "stderr",
     "output_type": "stream",
     "text": [
      "100%|██████████████████████████████████████████████████████████████████████████████████████████| 1/1 [00:00<00:00, 65.87it/s]\n",
      "The following columns in the test set don't have a corresponding argument in `ElectraForQuestionAnsweringAVPool.forward` and have been ignored: offset_mapping, example_id. If offset_mapping, example_id are not expected by `ElectraForQuestionAnsweringAVPool.forward`,  you can safely ignore this message.\n",
      "***** Running Prediction *****\n",
      "  Num examples = 1\n",
      "  Batch size = 12\n",
      "You're using a ElectraTokenizerFast tokenizer. Please note that with a fast tokenizer, using the `__call__` method is faster than using a method to encode the text followed by a call to the `pad` method to get a padded encoding.\n"
     ]
    },
    {
     "data": {
      "text/html": [
       "\n",
       "    <div>\n",
       "      \n",
       "      <progress value='2' max='1' style='width:300px; height:20px; vertical-align: middle;'></progress>\n",
       "      [1/1 00:04]\n",
       "    </div>\n",
       "    "
      ],
      "text/plain": [
       "<IPython.core.display.HTML object>"
      ]
     },
     "metadata": {},
     "output_type": "display_data"
    },
    {
     "name": "stderr",
     "output_type": "stream",
     "text": [
      "100%|█████████████████████████████████████████████████████████████████████████████████████████| 1/1 [00:00<00:00, 158.46it/s]\n"
     ]
    }
   ],
   "source": [
    "outputs = retro_reader(\n",
    "                query=question,\n",
    "                context=context,\n",
    "            )"
   ]
  },
  {
   "cell_type": "code",
   "execution_count": 6,
   "id": "5997170e",
   "metadata": {},
   "outputs": [],
   "source": [
    "answer, score = outputs[0][\"id-01\"], outputs[1]"
   ]
  },
  {
   "cell_type": "code",
   "execution_count": 7,
   "id": "09ce7be2",
   "metadata": {},
   "outputs": [
    {
     "data": {
      "text/plain": [
       "'Dangerously in Love'"
      ]
     },
     "execution_count": 7,
     "metadata": {},
     "output_type": "execute_result"
    }
   ],
   "source": [
    "answer"
   ]
  },
  {
   "cell_type": "code",
   "execution_count": 8,
   "id": "7168f4d2",
   "metadata": {},
   "outputs": [
    {
     "data": {
      "text/plain": [
       "{'id-01': -7.001707553863525}"
      ]
     },
     "execution_count": 8,
     "metadata": {},
     "output_type": "execute_result"
    }
   ],
   "source": [
    "score"
   ]
  },
  {
   "cell_type": "code",
   "execution_count": 9,
   "id": "35ee33f1",
   "metadata": {},
   "outputs": [
    {
     "data": {
      "text/plain": [
       "OrderedDict([('id-01',\n",
       "              [{'start_logit': 9.447672843933105,\n",
       "                'end_logit': 9.722466468811035,\n",
       "                'text': 'Dangerously in Love',\n",
       "                'probability': 0.9997329115867615},\n",
       "               {'start_logit': 9.447672843933105,\n",
       "                'end_logit': 0.6039757132530212,\n",
       "                'text': 'Dangerously in Love (2003)',\n",
       "                'probability': 0.00010959067003568634},\n",
       "               {'start_logit': -0.5647953748703003,\n",
       "                'end_logit': 9.722466468811035,\n",
       "                'text': 'Love',\n",
       "                'probability': 4.482540680328384e-05},\n",
       "               {'start_logit': -0.6786170601844788,\n",
       "                'end_logit': 9.722466468811035,\n",
       "                'text': \"Beyoncé's debut album, Dangerously in Love\",\n",
       "                'probability': 4.0002942114369944e-05},\n",
       "               {'start_logit': 9.447672843933105,\n",
       "                'end_logit': -1.036170482635498,\n",
       "                'text': 'Dangerously',\n",
       "                'probability': 2.1255313185974956e-05},\n",
       "               {'start_logit': -1.8266042470932007,\n",
       "                'end_logit': 9.722466468811035,\n",
       "                'text': ', Dangerously in Love',\n",
       "                'probability': 1.2691933989117388e-05},\n",
       "               {'start_logit': -2.236319065093994,\n",
       "                'end_logit': 9.722466468811035,\n",
       "                'text': 'debut album, Dangerously in Love',\n",
       "                'probability': 8.425400665146299e-06},\n",
       "               {'start_logit': 9.447672843933105,\n",
       "                'end_logit': -2.161130666732788,\n",
       "                'text': 'Dangerously in',\n",
       "                'probability': 6.900860171299428e-06},\n",
       "               {'start_logit': -2.722876787185669,\n",
       "                'end_logit': 9.722466468811035,\n",
       "                'text': 'album, Dangerously in Love',\n",
       "                'probability': 5.179424988455139e-06},\n",
       "               {'start_logit': 9.447672843933105,\n",
       "                'end_logit': -2.5466270446777344,\n",
       "                'text': 'Dangerously in Love (2003), which established her as a solo artist worldwide',\n",
       "                'probability': 4.693365553976037e-06},\n",
       "               {'start_logit': 9.447672843933105,\n",
       "                'end_logit': -2.6423354148864746,\n",
       "                'text': 'Dangerously in Love (2003),',\n",
       "                'probability': 4.264999006409198e-06},\n",
       "               {'start_logit': 9.447672843933105,\n",
       "                'end_logit': -2.6871745586395264,\n",
       "                'text': 'Dangerously in Love (2003',\n",
       "                'probability': 4.077981429873034e-06},\n",
       "               {'start_logit': -3.252351999282837,\n",
       "                'end_logit': 9.722466468811035,\n",
       "                'text': 'in Love',\n",
       "                'probability': 3.0502355912176427e-06},\n",
       "               {'start_logit': 9.447672843933105,\n",
       "                'end_logit': -4.321871757507324,\n",
       "                'text': 'Dangerously in Love (2003), which established her as a solo artist worldwide,',\n",
       "                'probability': 7.952531859700684e-07},\n",
       "               {'start_logit': 9.447672843933105,\n",
       "                'end_logit': -4.382266044616699,\n",
       "                'text': 'Dangerously in Love (2003), which established her as a solo artist',\n",
       "                'probability': 7.486459594474582e-07},\n",
       "               {'start_logit': 9.447672843933105,\n",
       "                'end_logit': -4.729220867156982,\n",
       "                'text': 'Dangerously in Love (',\n",
       "                'probability': 5.291711318022863e-07},\n",
       "               {'start_logit': -6.315321445465088,\n",
       "                'end_logit': 9.722466468811035,\n",
       "                'text': \"release of Beyoncé's debut album, Dangerously in Love\",\n",
       "                'probability': 1.4259435943131393e-07},\n",
       "               {'start_logit': -0.5647953748703003,\n",
       "                'end_logit': 0.6039757132530212,\n",
       "                'text': 'Love (2003)',\n",
       "                'probability': 4.913763618219491e-09},\n",
       "               {'start_logit': -0.6786170601844788,\n",
       "                'end_logit': 0.6039757132530212,\n",
       "                'text': \"Beyoncé's debut album, Dangerously in Love (2003)\",\n",
       "                'probability': 4.385121155081606e-09},\n",
       "               {'start_logit': -0.27373379468917847,\n",
       "                'end_logit': 0.09650544822216034,\n",
       "                'text': 'Beyoncé',\n",
       "                'probability': 3.957571159673989e-09},\n",
       "               {'start_logit': -2.2292988300323486,\n",
       "                'end_logit': -1.6604297161102295,\n",
       "                'text': '',\n",
       "                'probability': 9.662970423818251e-11}])])"
      ]
     },
     "execution_count": 9,
     "metadata": {},
     "output_type": "execute_result"
    }
   ],
   "source": [
    "outputs[3]"
   ]
  },
  {
   "cell_type": "code",
   "execution_count": 10,
   "id": "6bd28def",
   "metadata": {},
   "outputs": [
    {
     "data": {
      "text/plain": [
       "({'id-01': 'Dangerously in Love'},\n",
       " {'id-01': -7.001707553863525},\n",
       " {'id-01': 9.056452751159668},\n",
       " OrderedDict([('id-01',\n",
       "               [{'start_logit': 9.447672843933105,\n",
       "                 'end_logit': 9.722466468811035,\n",
       "                 'text': 'Dangerously in Love',\n",
       "                 'probability': 0.9997329115867615},\n",
       "                {'start_logit': 9.447672843933105,\n",
       "                 'end_logit': 0.6039757132530212,\n",
       "                 'text': 'Dangerously in Love (2003)',\n",
       "                 'probability': 0.00010959067003568634},\n",
       "                {'start_logit': -0.5647953748703003,\n",
       "                 'end_logit': 9.722466468811035,\n",
       "                 'text': 'Love',\n",
       "                 'probability': 4.482540680328384e-05},\n",
       "                {'start_logit': -0.6786170601844788,\n",
       "                 'end_logit': 9.722466468811035,\n",
       "                 'text': \"Beyoncé's debut album, Dangerously in Love\",\n",
       "                 'probability': 4.0002942114369944e-05},\n",
       "                {'start_logit': 9.447672843933105,\n",
       "                 'end_logit': -1.036170482635498,\n",
       "                 'text': 'Dangerously',\n",
       "                 'probability': 2.1255313185974956e-05},\n",
       "                {'start_logit': -1.8266042470932007,\n",
       "                 'end_logit': 9.722466468811035,\n",
       "                 'text': ', Dangerously in Love',\n",
       "                 'probability': 1.2691933989117388e-05},\n",
       "                {'start_logit': -2.236319065093994,\n",
       "                 'end_logit': 9.722466468811035,\n",
       "                 'text': 'debut album, Dangerously in Love',\n",
       "                 'probability': 8.425400665146299e-06},\n",
       "                {'start_logit': 9.447672843933105,\n",
       "                 'end_logit': -2.161130666732788,\n",
       "                 'text': 'Dangerously in',\n",
       "                 'probability': 6.900860171299428e-06},\n",
       "                {'start_logit': -2.722876787185669,\n",
       "                 'end_logit': 9.722466468811035,\n",
       "                 'text': 'album, Dangerously in Love',\n",
       "                 'probability': 5.179424988455139e-06},\n",
       "                {'start_logit': 9.447672843933105,\n",
       "                 'end_logit': -2.5466270446777344,\n",
       "                 'text': 'Dangerously in Love (2003), which established her as a solo artist worldwide',\n",
       "                 'probability': 4.693365553976037e-06},\n",
       "                {'start_logit': 9.447672843933105,\n",
       "                 'end_logit': -2.6423354148864746,\n",
       "                 'text': 'Dangerously in Love (2003),',\n",
       "                 'probability': 4.264999006409198e-06},\n",
       "                {'start_logit': 9.447672843933105,\n",
       "                 'end_logit': -2.6871745586395264,\n",
       "                 'text': 'Dangerously in Love (2003',\n",
       "                 'probability': 4.077981429873034e-06},\n",
       "                {'start_logit': -3.252351999282837,\n",
       "                 'end_logit': 9.722466468811035,\n",
       "                 'text': 'in Love',\n",
       "                 'probability': 3.0502355912176427e-06},\n",
       "                {'start_logit': 9.447672843933105,\n",
       "                 'end_logit': -4.321871757507324,\n",
       "                 'text': 'Dangerously in Love (2003), which established her as a solo artist worldwide,',\n",
       "                 'probability': 7.952531859700684e-07},\n",
       "                {'start_logit': 9.447672843933105,\n",
       "                 'end_logit': -4.382266044616699,\n",
       "                 'text': 'Dangerously in Love (2003), which established her as a solo artist',\n",
       "                 'probability': 7.486459594474582e-07},\n",
       "                {'start_logit': 9.447672843933105,\n",
       "                 'end_logit': -4.729220867156982,\n",
       "                 'text': 'Dangerously in Love (',\n",
       "                 'probability': 5.291711318022863e-07},\n",
       "                {'start_logit': -6.315321445465088,\n",
       "                 'end_logit': 9.722466468811035,\n",
       "                 'text': \"release of Beyoncé's debut album, Dangerously in Love\",\n",
       "                 'probability': 1.4259435943131393e-07},\n",
       "                {'start_logit': -0.5647953748703003,\n",
       "                 'end_logit': 0.6039757132530212,\n",
       "                 'text': 'Love (2003)',\n",
       "                 'probability': 4.913763618219491e-09},\n",
       "                {'start_logit': -0.6786170601844788,\n",
       "                 'end_logit': 0.6039757132530212,\n",
       "                 'text': \"Beyoncé's debut album, Dangerously in Love (2003)\",\n",
       "                 'probability': 4.385121155081606e-09},\n",
       "                {'start_logit': -0.27373379468917847,\n",
       "                 'end_logit': 0.09650544822216034,\n",
       "                 'text': 'Beyoncé',\n",
       "                 'probability': 3.957571159673989e-09},\n",
       "                {'start_logit': -2.2292988300323486,\n",
       "                 'end_logit': -1.6604297161102295,\n",
       "                 'text': '',\n",
       "                 'probability': 9.662970423818251e-11}])]),\n",
       " OrderedDict([('id-01', -23.05986785888672)]))"
      ]
     },
     "execution_count": 10,
     "metadata": {},
     "output_type": "execute_result"
    }
   ],
   "source": [
    "outputs"
   ]
  },
  {
   "cell_type": "code",
   "execution_count": 11,
   "id": "1bf57355",
   "metadata": {},
   "outputs": [
    {
     "data": {
      "text/plain": [
       "0.0"
      ]
     },
     "execution_count": 11,
     "metadata": {},
     "output_type": "execute_result"
    }
   ],
   "source": [
    "## Checking properties\n",
    "retro_reader.null_score_diff_threshold"
   ]
  },
  {
   "cell_type": "code",
   "execution_count": 12,
   "id": "9cb92e04",
   "metadata": {},
   "outputs": [
    {
     "data": {
      "text/plain": [
       "20"
      ]
     },
     "execution_count": 12,
     "metadata": {},
     "output_type": "execute_result"
    }
   ],
   "source": [
    "retro_reader.n_best_size"
   ]
  },
  {
   "cell_type": "code",
   "execution_count": 13,
   "id": "2d6b07e6",
   "metadata": {},
   "outputs": [
    {
     "data": {
      "text/plain": [
       "0.0"
      ]
     },
     "execution_count": 13,
     "metadata": {},
     "output_type": "execute_result"
    }
   ],
   "source": [
    "retro_reader.rear_threshold"
   ]
  },
  {
   "cell_type": "code",
   "execution_count": 14,
   "id": "791b01d2",
   "metadata": {},
   "outputs": [
    {
     "data": {
      "text/plain": [
       "1"
      ]
     },
     "execution_count": 14,
     "metadata": {},
     "output_type": "execute_result"
    }
   ],
   "source": [
    "retro_reader.best_cof"
   ]
  },
  {
   "cell_type": "code",
   "execution_count": 15,
   "id": "02cfa518",
   "metadata": {},
   "outputs": [],
   "source": [
    "question = \"When did Beyonce start becoming popular?\"\n",
    "context = \"\"\"Beyoncé Giselle Knowles-Carter (/biːˈjɒnseɪ/ bee-YON-say) (born September 4, 1981) is an American singer, songwriter, record producer and actress. Born and raised in Houston, Texas, she performed in various singing and dancing competitions as a child, and rose to fame in the late 1990s as lead singer of R&B girl-group Destiny\\'s Child. Managed by her father, Mathew Knowles, the group became one of the world\\'s best-selling girl groups of all time. Their hiatus saw the release of Beyoncé\\'s debut album, Dangerously in Love (2003), which established her as a solo artist worldwide, earned five Grammy Awards and featured the Billboard Hot 100 number-one singles \"Crazy in Love\" and \"Baby Boy\".\"\"\""
   ]
  },
  {
   "cell_type": "code",
   "execution_count": 16,
   "id": "678088e2",
   "metadata": {},
   "outputs": [
    {
     "name": "stdout",
     "output_type": "stream",
     "text": [
      "Dataset({\n",
      "    features: ['example_id', 'guid', 'question', 'context'],\n",
      "    num_rows: 1\n",
      "})\n"
     ]
    },
    {
     "data": {
      "application/vnd.jupyter.widget-view+json": {
       "model_id": "758c2b737cd2448fadafbaa170d75559",
       "version_major": 2,
       "version_minor": 0
      },
      "text/plain": [
       "  0%|          | 0/1 [00:00<?, ?ba/s]"
      ]
     },
     "metadata": {},
     "output_type": "display_data"
    },
    {
     "data": {
      "application/vnd.jupyter.widget-view+json": {
       "model_id": "473b4641d0c1446e840b32a08b3c9c36",
       "version_major": 2,
       "version_minor": 0
      },
      "text/plain": [
       "  0%|          | 0/1 [00:00<?, ?ba/s]"
      ]
     },
     "metadata": {},
     "output_type": "display_data"
    },
    {
     "name": "stderr",
     "output_type": "stream",
     "text": [
      "The following columns in the test set don't have a corresponding argument in `ElectraForSequenceClassification.forward` and have been ignored: example_id. If example_id are not expected by `ElectraForSequenceClassification.forward`,  you can safely ignore this message.\n",
      "***** Running Prediction *****\n",
      "  Num examples = 1\n",
      "  Batch size = 12\n",
      "100%|████████████████████████████████████████████████████████████████████████████████████████| 1/1 [00:00<00:00, 2892.62it/s]\n",
      "The following columns in the test set don't have a corresponding argument in `ElectraForQuestionAnsweringAVPool.forward` and have been ignored: offset_mapping, example_id. If offset_mapping, example_id are not expected by `ElectraForQuestionAnsweringAVPool.forward`,  you can safely ignore this message.\n",
      "***** Running Prediction *****\n",
      "  Num examples = 1\n",
      "  Batch size = 12\n",
      "100%|█████████████████████████████████████████████████████████████████████████████████████████| 1/1 [00:00<00:00, 285.75it/s]\n"
     ]
    }
   ],
   "source": [
    "outputs = retro_reader(\n",
    "                query=question,\n",
    "                context=context,\n",
    "            )"
   ]
  },
  {
   "cell_type": "code",
   "execution_count": 17,
   "id": "b69bfbf3",
   "metadata": {},
   "outputs": [
    {
     "data": {
      "text/plain": [
       "({'id-01': 'late 1990s'},\n",
       " {'id-01': -5.708309173583984},\n",
       " {'id-01': 9.187702178955078},\n",
       " OrderedDict([('id-01',\n",
       "               [{'start_logit': 7.999095439910889,\n",
       "                 'end_logit': 8.703619003295898,\n",
       "                 'text': 'late 1990s',\n",
       "                 'probability': 0.9145715236663818},\n",
       "                {'start_logit': 4.969646453857422,\n",
       "                 'end_logit': 8.703619003295898,\n",
       "                 'text': 'in the late 1990s',\n",
       "                 'probability': 0.04421243816614151},\n",
       "                {'start_logit': 4.74573278427124,\n",
       "                 'end_logit': 8.703619003295898,\n",
       "                 'text': 'the late 1990s',\n",
       "                 'probability': 0.0353427417576313},\n",
       "                {'start_logit': 2.846531391143799,\n",
       "                 'end_logit': 8.703619003295898,\n",
       "                 'text': '1990s',\n",
       "                 'probability': 0.005290383007377386},\n",
       "                {'start_logit': 7.999095439910889,\n",
       "                 'end_logit': 0.42595183849334717,\n",
       "                 'text': \"late 1990s as lead singer of R&B girl-group Destiny's Child.\",\n",
       "                 'probability': 0.00023241927556227893},\n",
       "                {'start_logit': 7.999095439910889,\n",
       "                 'end_logit': -0.18307116627693176,\n",
       "                 'text': \"late 1990s as lead singer of R&B girl-group Destiny's Child\",\n",
       "                 'probability': 0.0001264087768504396},\n",
       "                {'start_logit': 7.999095439910889,\n",
       "                 'end_logit': -0.7555217742919922,\n",
       "                 'text': 'late',\n",
       "                 'probability': 7.131239544833079e-05},\n",
       "                {'start_logit': -1.9773154258728027,\n",
       "                 'end_logit': 8.703619003295898,\n",
       "                 'text': 'rose to fame in the late 1990s',\n",
       "                 'probability': 4.251253994880244e-05},\n",
       "                {'start_logit': 7.999095439910889,\n",
       "                 'end_logit': -1.7098109722137451,\n",
       "                 'text': 'late 1990s as',\n",
       "                 'probability': 2.7461381250759587e-05},\n",
       "                {'start_logit': -2.8063156604766846,\n",
       "                 'end_logit': 8.703619003295898,\n",
       "                 'text': 'fame in the late 1990s',\n",
       "                 'probability': 1.8556118448032066e-05},\n",
       "                {'start_logit': 7.999095439910889,\n",
       "                 'end_logit': -2.263298511505127,\n",
       "                 'text': 'late 1990s as lead singer of R&B girl-group',\n",
       "                 'probability': 1.5788673408678733e-05},\n",
       "                {'start_logit': 4.969646453857422,\n",
       "                 'end_logit': 0.42595183849334717,\n",
       "                 'text': \"in the late 1990s as lead singer of R&B girl-group Destiny's Child.\",\n",
       "                 'probability': 1.1235680176469032e-05},\n",
       "                {'start_logit': 4.74573278427124,\n",
       "                 'end_logit': 0.42595183849334717,\n",
       "                 'text': \"the late 1990s as lead singer of R&B girl-group Destiny's Child.\",\n",
       "                 'probability': 8.981620339909568e-06},\n",
       "                {'start_logit': 4.969646453857422,\n",
       "                 'end_logit': -0.18307116627693176,\n",
       "                 'text': \"in the late 1990s as lead singer of R&B girl-group Destiny's Child\",\n",
       "                 'probability': 6.110883532528533e-06},\n",
       "                {'start_logit': 7.999095439910889,\n",
       "                 'end_logit': -3.3915669918060303,\n",
       "                 'text': \"late 1990s as lead singer of R&B girl-group Destiny's Child. Managed by her father, Mathew Knowles\",\n",
       "                 'probability': 5.109106950840214e-06},\n",
       "                {'start_logit': 4.74573278427124,\n",
       "                 'end_logit': -0.18307116627693176,\n",
       "                 'text': \"the late 1990s as lead singer of R&B girl-group Destiny's Child\",\n",
       "                 'probability': 4.884945610683644e-06},\n",
       "                {'start_logit': 4.969646453857422,\n",
       "                 'end_logit': -0.7555217742919922,\n",
       "                 'text': 'in the late',\n",
       "                 'probability': 3.44740146829281e-06},\n",
       "                {'start_logit': -4.50255823135376,\n",
       "                 'end_logit': 8.703619003295898,\n",
       "                 'text': 'Houston, Texas, she performed in various singing and dancing competitions as a child, and rose to fame in the late 1990s',\n",
       "                 'probability': 3.4026593311864417e-06},\n",
       "                {'start_logit': 4.74573278427124,\n",
       "                 'end_logit': -0.7555217742919922,\n",
       "                 'text': 'the late',\n",
       "                 'probability': 2.7557991870708065e-06},\n",
       "                {'start_logit': 7.999095439910889,\n",
       "                 'end_logit': -4.044261455535889,\n",
       "                 'text': 'late 1990s as lead singer of R&B girl-group Destiny',\n",
       "                 'probability': 2.66001029558538e-06},\n",
       "                {'start_logit': -2.325676918029785,\n",
       "                 'end_logit': -1.5759283304214478,\n",
       "                 'text': '',\n",
       "                 'probability': 1.0300894581760645e-09}])]),\n",
       " OrderedDict([('id-01', -20.604320526123047)]))"
      ]
     },
     "execution_count": 17,
     "metadata": {},
     "output_type": "execute_result"
    }
   ],
   "source": [
    "outputs"
   ]
  },
  {
   "cell_type": "code",
   "execution_count": 18,
   "id": "a5ea52ca",
   "metadata": {},
   "outputs": [
    {
     "data": {
      "text/plain": [
       "'late 1990s'"
      ]
     },
     "execution_count": 18,
     "metadata": {},
     "output_type": "execute_result"
    }
   ],
   "source": [
    "outputs[0][\"id-01\"]"
   ]
  },
  {
   "cell_type": "code",
   "execution_count": 19,
   "id": "0e0fe979",
   "metadata": {},
   "outputs": [],
   "source": [
    "import csv\n",
    "import requests\n",
    "\n",
    "# load training dataset\n",
    "def load_data():\n",
    "    CSV_URL = 'https://drive.google.com/u/0/uc?id=1Z-yb752A3o7b9dqrGt24XU0sl53FVqya&export=download'\n",
    "\n",
    "    with requests.Session() as s:\n",
    "        download = s.get(CSV_URL)\n",
    "        decoded_content = download.content.decode('utf-8')\n",
    "        cr = csv.reader(decoded_content.splitlines(), delimiter=',')\n",
    "        train_data = list(cr)\n",
    "\n",
    "    print(f\"Number of examples = {len(train_data)}\")\n",
    "    ans, noans = 0, 0\n",
    "    for x in train_data:\n",
    "        if x[4] == 'False':\n",
    "            noans += 1\n",
    "        else:\n",
    "            ans += 1\n",
    "    print(f\"\\tAnswerable questions = {ans}\")\n",
    "    print(f\"\\tNon-Answerable questions = {noans}\\n\")\n",
    "    print(\"Examples:\")\n",
    "    for i in [0, 1000, 1300]:\n",
    "        print(train_data[i][1], ' | ', train_data[i][2][:20] + '...', ' | ', ' | '.join(train_data[i][3:]))\n",
    "    return train_data"
   ]
  },
  {
   "cell_type": "code",
   "execution_count": 20,
   "id": "d1f8c8dc",
   "metadata": {},
   "outputs": [
    {
     "name": "stdout",
     "output_type": "stream",
     "text": [
      "Number of examples = 75056\n",
      "\tAnswerable questions = 50126\n",
      "\tNon-Answerable questions = 24930\n",
      "\n",
      "Examples:\n",
      "Theme  |  Paragraph...  |  Question | Answer_possible | Answer_text | Answer_start\n",
      "Frédéric_Chopin  |  Some modern commenta...  |  Who said Chopin's works were modeled after Bach, Beethoven, Schubert and Field? | True | ['Richard Taruskin'] | [543]\n",
      "The_Legend_of_Zelda:_Twilight_Princess  |  Twilight Princess ta...  |  Who releases Bulbins from the Realm of Twilight? | False | [] | []\n"
     ]
    }
   ],
   "source": [
    "data = load_data()"
   ]
  },
  {
   "cell_type": "code",
   "execution_count": 21,
   "id": "3913b736",
   "metadata": {},
   "outputs": [
    {
     "data": {
      "text/plain": [
       "['2',\n",
       " 'Beyoncé',\n",
       " 'Beyoncé Giselle Knowles-Carter (/biːˈjɒnseɪ/ bee-YON-say) (born September 4, 1981) is an American singer, songwriter, record producer and actress. Born and raised in Houston, Texas, she performed in various singing and dancing competitions as a child, and rose to fame in the late 1990s as lead singer of R&B girl-group Destiny\\'s Child. Managed by her father, Mathew Knowles, the group became one of the world\\'s best-selling girl groups of all time. Their hiatus saw the release of Beyoncé\\'s debut album, Dangerously in Love (2003), which established her as a solo artist worldwide, earned five Grammy Awards and featured the Billboard Hot 100 number-one singles \"Crazy in Love\" and \"Baby Boy\".',\n",
       " \"When did Beyonce leave Destiny's Child and become a solo singer?\",\n",
       " 'True',\n",
       " \"['2003']\",\n",
       " '[526]']"
      ]
     },
     "execution_count": 21,
     "metadata": {},
     "output_type": "execute_result"
    }
   ],
   "source": [
    "data[1]"
   ]
  },
  {
   "cell_type": "code",
   "execution_count": 22,
   "id": "eeea968b",
   "metadata": {},
   "outputs": [],
   "source": [
    "import string, re, json, ast\n",
    "\n",
    "def normalize_text(s):\n",
    "    \"\"\"Removing articles and punctuation, and standardizing whitespace are all typical text processing steps.\"\"\"\n",
    "\n",
    "    def remove_articles(text):\n",
    "        regex = re.compile(r\"\\b(a|an|the)\\b\", re.UNICODE)\n",
    "        return re.sub(regex, \" \", text)\n",
    "\n",
    "    def white_space_fix(text):\n",
    "        return \" \".join(text.split())\n",
    "\n",
    "    def remove_punc(text):\n",
    "        exclude = set(string.punctuation)\n",
    "        return \"\".join(ch for ch in text if ch not in exclude)\n",
    "\n",
    "    def lower(text):\n",
    "        return text.lower()\n",
    "\n",
    "    return white_space_fix(remove_articles(remove_punc(lower(s))))\n",
    "\n",
    "\n",
    "def compute_exact_match(prediction, truth):\n",
    "    return int(normalize_text(prediction) == normalize_text(truth))\n",
    "\n",
    "\n",
    "def compute_f1(prediction, truth):\n",
    "    pred_tokens = normalize_text(prediction).split()\n",
    "    truth_tokens = normalize_text(truth).split()\n",
    "    \n",
    "    # if either the prediction or the truth is no-answer then f1 = 1 if they agree, 0 otherwise\n",
    "    if len(pred_tokens) == 0 or len(truth_tokens) == 0:\n",
    "        return int(pred_tokens == truth_tokens)\n",
    "    \n",
    "    common_tokens = set(pred_tokens) & set(truth_tokens)\n",
    "    \n",
    "    # if there are no common tokens then f1 = 0\n",
    "    if len(common_tokens) == 0:\n",
    "        return 0\n",
    "    \n",
    "    prec = len(common_tokens) / len(pred_tokens)\n",
    "    rec = len(common_tokens) / len(truth_tokens)\n",
    "    \n",
    "    return 2 * (prec * rec) / (prec + rec)"
   ]
  },
  {
   "cell_type": "code",
   "execution_count": 23,
   "id": "41657213",
   "metadata": {},
   "outputs": [
    {
     "data": {
      "text/plain": [
       "0.5"
      ]
     },
     "execution_count": 23,
     "metadata": {},
     "output_type": "execute_result"
    }
   ],
   "source": [
    "compute_f1(\"Valorant\", \"Valorant is the goat\")"
   ]
  },
  {
   "cell_type": "code",
   "execution_count": 24,
   "id": "1bdf1f2f",
   "metadata": {},
   "outputs": [],
   "source": [
    "def predict_all(data):\n",
    "    outputs = []\n",
    "    noans = 0;\n",
    "    for i in range(1, len(data)):\n",
    "        query = data[i][3]\n",
    "        context = data[i][2]\n",
    "        out = retro_reader(\n",
    "                query=question,\n",
    "                context=context,\n",
    "            )\n",
    "        outputs.append(out[0][\"id-01\"])\n",
    "        if len(out[0][\"id-01\"]) == 0:\n",
    "            noans += 1\n",
    "        print(\"Iteration : \",i)\n",
    "        print(\"Number of unanswered : \", noans)\n",
    "    return outputs"
   ]
  },
  {
   "cell_type": "code",
   "execution_count": 25,
   "id": "e7323b7d",
   "metadata": {},
   "outputs": [
    {
     "data": {
      "text/plain": [
       "'Beyoncé Giselle Knowles-Carter (/biːˈjɒnseɪ/ bee-YON-say) (born September 4, 1981) is an American singer, songwriter, record producer and actress. Born and raised in Houston, Texas, she performed in various singing and dancing competitions as a child, and rose to fame in the late 1990s as lead singer of R&B girl-group Destiny\\'s Child. Managed by her father, Mathew Knowles, the group became one of the world\\'s best-selling girl groups of all time. Their hiatus saw the release of Beyoncé\\'s debut album, Dangerously in Love (2003), which established her as a solo artist worldwide, earned five Grammy Awards and featured the Billboard Hot 100 number-one singles \"Crazy in Love\" and \"Baby Boy\".'"
      ]
     },
     "execution_count": 25,
     "metadata": {},
     "output_type": "execute_result"
    }
   ],
   "source": [
    "context"
   ]
  },
  {
   "cell_type": "code",
   "execution_count": 26,
   "id": "425bd86e",
   "metadata": {},
   "outputs": [],
   "source": [
    "context = \" \".join(context)"
   ]
  },
  {
   "cell_type": "code",
   "execution_count": 27,
   "id": "5001bd6f",
   "metadata": {},
   "outputs": [
    {
     "data": {
      "text/plain": [
       "'B e y o n c é   G i s e l l e   K n o w l e s - C a r t e r   ( / b i ː ˈ j ɒ n s e ɪ /   b e e - Y O N - s a y )   ( b o r n   S e p t e m b e r   4 ,   1 9 8 1 )   i s   a n   A m e r i c a n   s i n g e r ,   s o n g w r i t e r ,   r e c o r d   p r o d u c e r   a n d   a c t r e s s .   B o r n   a n d   r a i s e d   i n   H o u s t o n ,   T e x a s ,   s h e   p e r f o r m e d   i n   v a r i o u s   s i n g i n g   a n d   d a n c i n g   c o m p e t i t i o n s   a s   a   c h i l d ,   a n d   r o s e   t o   f a m e   i n   t h e   l a t e   1 9 9 0 s   a s   l e a d   s i n g e r   o f   R & B   g i r l - g r o u p   D e s t i n y \\' s   C h i l d .   M a n a g e d   b y   h e r   f a t h e r ,   M a t h e w   K n o w l e s ,   t h e   g r o u p   b e c a m e   o n e   o f   t h e   w o r l d \\' s   b e s t - s e l l i n g   g i r l   g r o u p s   o f   a l l   t i m e .   T h e i r   h i a t u s   s a w   t h e   r e l e a s e   o f   B e y o n c é \\' s   d e b u t   a l b u m ,   D a n g e r o u s l y   i n   L o v e   ( 2 0 0 3 ) ,   w h i c h   e s t a b l i s h e d   h e r   a s   a   s o l o   a r t i s t   w o r l d w i d e ,   e a r n e d   f i v e   G r a m m y   A w a r d s   a n d   f e a t u r e d   t h e   B i l l b o a r d   H o t   1 0 0   n u m b e r - o n e   s i n g l e s   \" C r a z y   i n   L o v e \"   a n d   \" B a b y   B o y \" .'"
      ]
     },
     "execution_count": 27,
     "metadata": {},
     "output_type": "execute_result"
    }
   ],
   "source": [
    "context"
   ]
  },
  {
   "cell_type": "code",
   "execution_count": null,
   "id": "d14c9f41",
   "metadata": {},
   "outputs": [],
   "source": []
  }
 ],
 "metadata": {
  "kernelspec": {
   "display_name": "Python 3 (ipykernel)",
   "language": "python",
   "name": "python3"
  },
  "language_info": {
   "codemirror_mode": {
    "name": "ipython",
    "version": 3
   },
   "file_extension": ".py",
   "mimetype": "text/x-python",
   "name": "python",
   "nbconvert_exporter": "python",
   "pygments_lexer": "ipython3",
   "version": "3.9.15"
  }
 },
 "nbformat": 4,
 "nbformat_minor": 5
}
